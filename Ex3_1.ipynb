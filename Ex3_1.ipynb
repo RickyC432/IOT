{
 "cells": [
  {
   "cell_type": "code",
   "execution_count": 8,
   "id": "c7ef7719",
   "metadata": {},
   "outputs": [
    {
     "name": "stdout",
     "output_type": "stream",
     "text": [
      "The day of a week:Sat\n",
      "It's a holiday!\n"
     ]
    }
   ],
   "source": [
    "day=input(\"The day of a week:\")\n",
    "weekend=[\"Sat\",\"Sun\"]\n",
    "weekday=[\"Mon\" ,\"Tue\", \"Wed\", \"Thu\", \"Fri\"]\n",
    "if day in weekend:\n",
    "    print(\"It's a holiday!\")\n",
    "elif day in weekday:\n",
    "    if day==\"Fri\":\n",
    "        print(\"It's not a holiday yet.\")\n",
    "    else:\n",
    "        print(\"It's not a holiday yet.\")\n",
    "        print(\"We have more than 1 day before holiday!\")\n",
    "else:\n",
    "    print(\"Wrong input!\")\n",
    "    "
   ]
  },
  {
   "cell_type": "code",
   "execution_count": null,
   "id": "ff6eee74",
   "metadata": {},
   "outputs": [],
   "source": []
  }
 ],
 "metadata": {
  "kernelspec": {
   "display_name": "Python 3 (ipykernel)",
   "language": "python",
   "name": "python3"
  },
  "language_info": {
   "codemirror_mode": {
    "name": "ipython",
    "version": 3
   },
   "file_extension": ".py",
   "mimetype": "text/x-python",
   "name": "python",
   "nbconvert_exporter": "python",
   "pygments_lexer": "ipython3",
   "version": "3.9.12"
  }
 },
 "nbformat": 4,
 "nbformat_minor": 5
}
